{
 "cells": [
  {
   "cell_type": "code",
   "execution_count": 1,
   "metadata": {},
   "outputs": [],
   "source": [
    "import pandas as pd\n",
    "from geopy.geocoders import Nominatim \n",
    "import requests\n",
    "from pandas.io.json import json_normalize\n",
    "import folium\n",
    "pd.options.display.max_columns = None\n",
    "pd.options.display.max_rows = None\n",
    "\n"
   ]
  },
  {
   "cell_type": "code",
   "execution_count": 2,
   "metadata": {},
   "outputs": [],
   "source": [
    "stadtteile = pd.read_html('https://de.wikipedia.org/wiki/Liste_der_Stadtteile_M%C3%BCnchens')[0][['Stadtteil']]"
   ]
  },
  {
   "cell_type": "code",
   "execution_count": 3,
   "metadata": {},
   "outputs": [],
   "source": [
    "stadtteile.drop([22],inplace=True)\n",
    "stadtteile.loc[18] = 'Obergiesing'\n",
    "stadtteile.loc[19] = 'Untergiesing'\n",
    "stadtteile.loc[21] = 'Holzapfelkreuth'\n",
    "stadtteile.loc[44] = 'Schwabing'\n",
    "stadtteile.loc[45] = 'Nord Schwabing'\n",
    "stadtteile.loc[47] = 'Sendling'\n",
    "stadtteile.loc[48] = 'Untersendling'\n",
    "stadtteile.loc[49] = 'Obersendling'\n"
   ]
  },
  {
   "cell_type": "code",
   "execution_count": 4,
   "metadata": {},
   "outputs": [],
   "source": [
    "stadtteile = stadtteile.append(pd.DataFrame({'Stadtteil':['Altschwabing','West Schwabing','Mittersendling']}),ignore_index=True).sort_values(by='Stadtteil').reset_index(drop=True)"
   ]
  },
  {
   "cell_type": "code",
   "execution_count": 5,
   "metadata": {},
   "outputs": [],
   "source": [
    "address = 'Holzapfelkreuth Munich, DE'\n",
    "location = Nominatim(user_agent=\"toronto\").geocode(address)\n",
    "longitude = location.longitude\n",
    "latitude = location.latitude"
   ]
  },
  {
   "cell_type": "markdown",
   "metadata": {},
   "source": [
    "for stadtteil in stadtteile['Stadtteil']:\n",
    "    print(stadtteil)\n",
    "    address = str(stadtteil)+' Munich, DE'\n",
    "    location = Nominatim(user_agent=\"toronto\").geocode(address)\n",
    "    stadtteile.loc[stadtteile['Stadtteil'] == stadtteil,'Latitude'] = location.latitude\n",
    "    stadtteile.loc[stadtteile['Stadtteil'] == stadtteil,'Longitude'] = location.longitude"
   ]
  },
  {
   "cell_type": "markdown",
   "metadata": {},
   "source": [
    "stadtteile.to_csv('stadtteile_muc.csv')"
   ]
  },
  {
   "cell_type": "code",
   "execution_count": 26,
   "metadata": {},
   "outputs": [],
   "source": [
    "stadtteile = pd.read_csv('stadtteile_muc.csv')"
   ]
  },
  {
   "cell_type": "code",
   "execution_count": 27,
   "metadata": {},
   "outputs": [
    {
     "data": {
      "text/html": [
       "<div style=\"width:100%;\"><div style=\"position:relative;width:100%;height:0;padding-bottom:60%;\"><span style=\"color:#565656\">Make this Notebook Trusted to load map: File -> Trust Notebook</span><iframe src=\"about:blank\" style=\"position:absolute;width:100%;height:100%;left:0;top:0;border:none !important;\" data-html=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 onload=\"this.contentDocument.open();this.contentDocument.write(atob(this.getAttribute('data-html')));this.contentDocument.close();\" allowfullscreen webkitallowfullscreen mozallowfullscreen></iframe></div></div>"
      ],
      "text/plain": [
       "<folium.folium.Map at 0x205c1698b08>"
      ]
     },
     "execution_count": 27,
     "metadata": {},
     "output_type": "execute_result"
    }
   ],
   "source": [
    "map_city = folium.Map(location=[latitude, longitude], zoom_start=14)\n",
    "map_city"
   ]
  },
  {
   "cell_type": "code",
   "execution_count": 9,
   "metadata": {},
   "outputs": [],
   "source": [
    "CLIENT_ID = 'WC4YTOLELHB5LBYGCGOEWTWCMCD0NMM3JWJKMDH0JSQ31JJR' # your Foursquare ID\n",
    "CLIENT_SECRET = 'A33R3HGGAVZ1LGGOPDAZV45RQKTOJJCKUTVSKR2LAT1HEASA' # your Foursquare Secret\n",
    "VERSION = '20180605' # Foursquare API version\n",
    "LIMIT = 100 # A default Foursquare API limit value"
   ]
  },
  {
   "cell_type": "markdown",
   "metadata": {},
   "source": [
    "Using the function from the lab"
   ]
  },
  {
   "cell_type": "code",
   "execution_count": 10,
   "metadata": {
    "jupyter": {
     "source_hidden": true
    }
   },
   "outputs": [],
   "source": [
    "def getNearbyVenues(names, latitudes, longitudes, radius=500):\n",
    "    \n",
    "    venues_list=[]\n",
    "    for name, lat, lng in zip(names, latitudes, longitudes):\n",
    "        print(name)\n",
    "            \n",
    "        # create the API request URL\n",
    "        url = 'https://api.foursquare.com/v2/venues/explore?&client_id={}&client_secret={}&v={}&ll={},{}&radius={}&limit={}'.format(\n",
    "            CLIENT_ID, \n",
    "            CLIENT_SECRET, \n",
    "            VERSION, \n",
    "            lat, \n",
    "            lng, \n",
    "            radius, \n",
    "            LIMIT)\n",
    "            \n",
    "        # make the GET request\n",
    "        results = requests.get(url).json()[\"response\"]['groups'][0]['items']\n",
    "        \n",
    "        # return only relevant information for each nearby venue\n",
    "        venues_list.append([(\n",
    "            name, \n",
    "            lat, \n",
    "            lng, \n",
    "            v['venue']['name'], \n",
    "            v['venue']['location']['lat'], \n",
    "            v['venue']['location']['lng'],  \n",
    "            v['venue']['categories'][0]['name']) for v in results])\n",
    "\n",
    "    nearby_venues = pd.DataFrame([item for venue_list in venues_list for item in venue_list])\n",
    "    nearby_venues.columns = ['Neighborhood', \n",
    "                  'Neighborhood Latitude', \n",
    "                  'Neighborhood Longitude', \n",
    "                  'Venue', \n",
    "                  'Venue Latitude', \n",
    "                  'Venue Longitude', \n",
    "                  'Venue Category']\n",
    "    \n",
    "    return(nearby_venues)"
   ]
  },
  {
   "cell_type": "code",
   "execution_count": 11,
   "metadata": {},
   "outputs": [],
   "source": [
    "names = stadtteile['Stadtteil']\n",
    "latitudes = stadtteile['Latitude']\n",
    "longitudes = stadtteile['Longitude']\n",
    "\n",
    "#df = getNearbyVenues(names,latitudes,longitudes,radius=1000)"
   ]
  },
  {
   "cell_type": "code",
   "execution_count": 12,
   "metadata": {},
   "outputs": [],
   "source": [
    "#df.to_csv('venues_muc.csv')"
   ]
  },
  {
   "cell_type": "code",
   "execution_count": 35,
   "metadata": {},
   "outputs": [],
   "source": [
    "df = pd.read_csv('venues_muc.csv').drop('Unnamed: 0',axis=1)"
   ]
  },
  {
   "cell_type": "code",
   "execution_count": 36,
   "metadata": {},
   "outputs": [
    {
     "data": {
      "text/html": [
       "<div>\n",
       "<style scoped>\n",
       "    .dataframe tbody tr th:only-of-type {\n",
       "        vertical-align: middle;\n",
       "    }\n",
       "\n",
       "    .dataframe tbody tr th {\n",
       "        vertical-align: top;\n",
       "    }\n",
       "\n",
       "    .dataframe thead th {\n",
       "        text-align: right;\n",
       "    }\n",
       "</style>\n",
       "<table border=\"1\" class=\"dataframe\">\n",
       "  <thead>\n",
       "    <tr style=\"text-align: right;\">\n",
       "      <th></th>\n",
       "      <th>Neighborhood</th>\n",
       "      <th>Neighborhood Latitude</th>\n",
       "      <th>Neighborhood Longitude</th>\n",
       "      <th>Venue</th>\n",
       "      <th>Venue Latitude</th>\n",
       "      <th>Venue Longitude</th>\n",
       "      <th>Venue Category</th>\n",
       "    </tr>\n",
       "  </thead>\n",
       "  <tbody>\n",
       "    <tr>\n",
       "      <td>0</td>\n",
       "      <td>Allach</td>\n",
       "      <td>48.195994</td>\n",
       "      <td>11.457013</td>\n",
       "      <td>Bäckerei Schuhmair</td>\n",
       "      <td>48.197175</td>\n",
       "      <td>11.459016</td>\n",
       "      <td>Bakery</td>\n",
       "    </tr>\n",
       "  </tbody>\n",
       "</table>\n",
       "</div>"
      ],
      "text/plain": [
       "  Neighborhood  Neighborhood Latitude  Neighborhood Longitude  \\\n",
       "0       Allach              48.195994               11.457013   \n",
       "\n",
       "                Venue  Venue Latitude  Venue Longitude Venue Category  \n",
       "0  Bäckerei Schuhmair       48.197175        11.459016         Bakery  "
      ]
     },
     "execution_count": 36,
     "metadata": {},
     "output_type": "execute_result"
    }
   ],
   "source": [
    "df.head(1)"
   ]
  },
  {
   "cell_type": "markdown",
   "metadata": {},
   "source": [
    "Only use categories that occure more than 50 times"
   ]
  },
  {
   "cell_type": "code",
   "execution_count": 37,
   "metadata": {},
   "outputs": [],
   "source": [
    "venue_count = df.groupby('Venue Category').size().sort_values(ascending=False)"
   ]
  },
  {
   "cell_type": "code",
   "execution_count": 38,
   "metadata": {},
   "outputs": [],
   "source": [
    "df = df[df['Venue Category'].isin(venue_count[venue_count>50].index)]"
   ]
  },
  {
   "cell_type": "markdown",
   "metadata": {},
   "source": [
    "Only consider Neighborhoods with 10 or more entries"
   ]
  },
  {
   "cell_type": "code",
   "execution_count": 39,
   "metadata": {},
   "outputs": [],
   "source": [
    "neighborhood_count = df.groupby('Neighborhood').size().sort_values(ascending=False)"
   ]
  },
  {
   "cell_type": "code",
   "execution_count": 40,
   "metadata": {},
   "outputs": [],
   "source": [
    "df = df[df['Neighborhood'].isin(neighborhood_count[neighborhood_count>=10].index)].reset_index(drop=True)"
   ]
  },
  {
   "cell_type": "code",
   "execution_count": 41,
   "metadata": {},
   "outputs": [],
   "source": [
    "one_hot = pd.get_dummies(df['Venue Category'])"
   ]
  },
  {
   "cell_type": "code",
   "execution_count": 42,
   "metadata": {},
   "outputs": [],
   "source": [
    "df = pd.merge(df,one_hot,left_index=True,right_index=True,how='inner')"
   ]
  },
  {
   "cell_type": "code",
   "execution_count": 43,
   "metadata": {},
   "outputs": [
    {
     "data": {
      "text/html": [
       "<div>\n",
       "<style scoped>\n",
       "    .dataframe tbody tr th:only-of-type {\n",
       "        vertical-align: middle;\n",
       "    }\n",
       "\n",
       "    .dataframe tbody tr th {\n",
       "        vertical-align: top;\n",
       "    }\n",
       "\n",
       "    .dataframe thead th {\n",
       "        text-align: right;\n",
       "    }\n",
       "</style>\n",
       "<table border=\"1\" class=\"dataframe\">\n",
       "  <thead>\n",
       "    <tr style=\"text-align: right;\">\n",
       "      <th></th>\n",
       "      <th>Neighborhood</th>\n",
       "      <th>Neighborhood Latitude</th>\n",
       "      <th>Neighborhood Longitude</th>\n",
       "      <th>Venue</th>\n",
       "      <th>Venue Latitude</th>\n",
       "      <th>Venue Longitude</th>\n",
       "      <th>Venue Category</th>\n",
       "      <th>Bakery</th>\n",
       "      <th>Bus Stop</th>\n",
       "      <th>Café</th>\n",
       "      <th>Drugstore</th>\n",
       "      <th>German Restaurant</th>\n",
       "      <th>Hotel</th>\n",
       "      <th>Ice Cream Shop</th>\n",
       "      <th>Italian Restaurant</th>\n",
       "      <th>Plaza</th>\n",
       "      <th>Restaurant</th>\n",
       "      <th>Supermarket</th>\n",
       "    </tr>\n",
       "  </thead>\n",
       "  <tbody>\n",
       "    <tr>\n",
       "      <td>0</td>\n",
       "      <td>Allach</td>\n",
       "      <td>48.195994</td>\n",
       "      <td>11.457013</td>\n",
       "      <td>Bäckerei Schuhmair</td>\n",
       "      <td>48.197175</td>\n",
       "      <td>11.459016</td>\n",
       "      <td>Bakery</td>\n",
       "      <td>1</td>\n",
       "      <td>0</td>\n",
       "      <td>0</td>\n",
       "      <td>0</td>\n",
       "      <td>0</td>\n",
       "      <td>0</td>\n",
       "      <td>0</td>\n",
       "      <td>0</td>\n",
       "      <td>0</td>\n",
       "      <td>0</td>\n",
       "      <td>0</td>\n",
       "    </tr>\n",
       "    <tr>\n",
       "      <td>1</td>\n",
       "      <td>Allach</td>\n",
       "      <td>48.195994</td>\n",
       "      <td>11.457013</td>\n",
       "      <td>Würmtalhof</td>\n",
       "      <td>48.188834</td>\n",
       "      <td>11.460680</td>\n",
       "      <td>German Restaurant</td>\n",
       "      <td>0</td>\n",
       "      <td>0</td>\n",
       "      <td>0</td>\n",
       "      <td>0</td>\n",
       "      <td>1</td>\n",
       "      <td>0</td>\n",
       "      <td>0</td>\n",
       "      <td>0</td>\n",
       "      <td>0</td>\n",
       "      <td>0</td>\n",
       "      <td>0</td>\n",
       "    </tr>\n",
       "    <tr>\n",
       "      <td>2</td>\n",
       "      <td>Allach</td>\n",
       "      <td>48.195994</td>\n",
       "      <td>11.457013</td>\n",
       "      <td>Westside Hotel</td>\n",
       "      <td>48.201045</td>\n",
       "      <td>11.458564</td>\n",
       "      <td>Hotel</td>\n",
       "      <td>0</td>\n",
       "      <td>0</td>\n",
       "      <td>0</td>\n",
       "      <td>0</td>\n",
       "      <td>0</td>\n",
       "      <td>1</td>\n",
       "      <td>0</td>\n",
       "      <td>0</td>\n",
       "      <td>0</td>\n",
       "      <td>0</td>\n",
       "      <td>0</td>\n",
       "    </tr>\n",
       "    <tr>\n",
       "      <td>3</td>\n",
       "      <td>Allach</td>\n",
       "      <td>48.195994</td>\n",
       "      <td>11.457013</td>\n",
       "      <td>Sicilia</td>\n",
       "      <td>48.193331</td>\n",
       "      <td>11.459387</td>\n",
       "      <td>Italian Restaurant</td>\n",
       "      <td>0</td>\n",
       "      <td>0</td>\n",
       "      <td>0</td>\n",
       "      <td>0</td>\n",
       "      <td>0</td>\n",
       "      <td>0</td>\n",
       "      <td>0</td>\n",
       "      <td>1</td>\n",
       "      <td>0</td>\n",
       "      <td>0</td>\n",
       "      <td>0</td>\n",
       "    </tr>\n",
       "    <tr>\n",
       "      <td>4</td>\n",
       "      <td>Allach</td>\n",
       "      <td>48.195994</td>\n",
       "      <td>11.457013</td>\n",
       "      <td>dm-drogerie markt</td>\n",
       "      <td>48.194118</td>\n",
       "      <td>11.465640</td>\n",
       "      <td>Drugstore</td>\n",
       "      <td>0</td>\n",
       "      <td>0</td>\n",
       "      <td>0</td>\n",
       "      <td>1</td>\n",
       "      <td>0</td>\n",
       "      <td>0</td>\n",
       "      <td>0</td>\n",
       "      <td>0</td>\n",
       "      <td>0</td>\n",
       "      <td>0</td>\n",
       "      <td>0</td>\n",
       "    </tr>\n",
       "  </tbody>\n",
       "</table>\n",
       "</div>"
      ],
      "text/plain": [
       "  Neighborhood  Neighborhood Latitude  Neighborhood Longitude  \\\n",
       "0       Allach              48.195994               11.457013   \n",
       "1       Allach              48.195994               11.457013   \n",
       "2       Allach              48.195994               11.457013   \n",
       "3       Allach              48.195994               11.457013   \n",
       "4       Allach              48.195994               11.457013   \n",
       "\n",
       "                Venue  Venue Latitude  Venue Longitude      Venue Category  \\\n",
       "0  Bäckerei Schuhmair       48.197175        11.459016              Bakery   \n",
       "1          Würmtalhof       48.188834        11.460680   German Restaurant   \n",
       "2      Westside Hotel       48.201045        11.458564               Hotel   \n",
       "3             Sicilia       48.193331        11.459387  Italian Restaurant   \n",
       "4   dm-drogerie markt       48.194118        11.465640           Drugstore   \n",
       "\n",
       "   Bakery  Bus Stop  Café  Drugstore  German Restaurant  Hotel  \\\n",
       "0       1         0     0          0                  0      0   \n",
       "1       0         0     0          0                  1      0   \n",
       "2       0         0     0          0                  0      1   \n",
       "3       0         0     0          0                  0      0   \n",
       "4       0         0     0          1                  0      0   \n",
       "\n",
       "   Ice Cream Shop  Italian Restaurant  Plaza  Restaurant  Supermarket  \n",
       "0               0                   0      0           0            0  \n",
       "1               0                   0      0           0            0  \n",
       "2               0                   0      0           0            0  \n",
       "3               0                   1      0           0            0  \n",
       "4               0                   0      0           0            0  "
      ]
     },
     "execution_count": 43,
     "metadata": {},
     "output_type": "execute_result"
    }
   ],
   "source": [
    "df.head()"
   ]
  },
  {
   "cell_type": "code",
   "execution_count": 44,
   "metadata": {},
   "outputs": [],
   "source": [
    "venue_freq = df.groupby('Neighborhood').mean()\n",
    "\n",
    "venue_freq = venue_freq.drop(venue_freq.columns.values[0:4],axis=1)"
   ]
  },
  {
   "cell_type": "code",
   "execution_count": 45,
   "metadata": {},
   "outputs": [
    {
     "data": {
      "text/html": [
       "<div>\n",
       "<style scoped>\n",
       "    .dataframe tbody tr th:only-of-type {\n",
       "        vertical-align: middle;\n",
       "    }\n",
       "\n",
       "    .dataframe tbody tr th {\n",
       "        vertical-align: top;\n",
       "    }\n",
       "\n",
       "    .dataframe thead th {\n",
       "        text-align: right;\n",
       "    }\n",
       "</style>\n",
       "<table border=\"1\" class=\"dataframe\">\n",
       "  <thead>\n",
       "    <tr style=\"text-align: right;\">\n",
       "      <th></th>\n",
       "      <th>Bakery</th>\n",
       "      <th>Bus Stop</th>\n",
       "      <th>Café</th>\n",
       "      <th>Drugstore</th>\n",
       "      <th>German Restaurant</th>\n",
       "      <th>Hotel</th>\n",
       "      <th>Ice Cream Shop</th>\n",
       "      <th>Italian Restaurant</th>\n",
       "      <th>Plaza</th>\n",
       "      <th>Restaurant</th>\n",
       "      <th>Supermarket</th>\n",
       "    </tr>\n",
       "    <tr>\n",
       "      <th>Neighborhood</th>\n",
       "      <th></th>\n",
       "      <th></th>\n",
       "      <th></th>\n",
       "      <th></th>\n",
       "      <th></th>\n",
       "      <th></th>\n",
       "      <th></th>\n",
       "      <th></th>\n",
       "      <th></th>\n",
       "      <th></th>\n",
       "      <th></th>\n",
       "    </tr>\n",
       "  </thead>\n",
       "  <tbody>\n",
       "    <tr>\n",
       "      <td>Allach</td>\n",
       "      <td>0.200000</td>\n",
       "      <td>0.100000</td>\n",
       "      <td>0.000000</td>\n",
       "      <td>0.200000</td>\n",
       "      <td>0.100000</td>\n",
       "      <td>0.100000</td>\n",
       "      <td>0.000000</td>\n",
       "      <td>0.100000</td>\n",
       "      <td>0.000000</td>\n",
       "      <td>0.000000</td>\n",
       "      <td>0.200000</td>\n",
       "    </tr>\n",
       "    <tr>\n",
       "      <td>Altschwabing</td>\n",
       "      <td>0.075000</td>\n",
       "      <td>0.000000</td>\n",
       "      <td>0.500000</td>\n",
       "      <td>0.000000</td>\n",
       "      <td>0.100000</td>\n",
       "      <td>0.000000</td>\n",
       "      <td>0.075000</td>\n",
       "      <td>0.150000</td>\n",
       "      <td>0.075000</td>\n",
       "      <td>0.025000</td>\n",
       "      <td>0.000000</td>\n",
       "    </tr>\n",
       "    <tr>\n",
       "      <td>Altstadt</td>\n",
       "      <td>0.000000</td>\n",
       "      <td>0.000000</td>\n",
       "      <td>0.258065</td>\n",
       "      <td>0.032258</td>\n",
       "      <td>0.096774</td>\n",
       "      <td>0.258065</td>\n",
       "      <td>0.032258</td>\n",
       "      <td>0.032258</td>\n",
       "      <td>0.161290</td>\n",
       "      <td>0.129032</td>\n",
       "      <td>0.000000</td>\n",
       "    </tr>\n",
       "    <tr>\n",
       "      <td>Am Hart</td>\n",
       "      <td>0.071429</td>\n",
       "      <td>0.214286</td>\n",
       "      <td>0.142857</td>\n",
       "      <td>0.071429</td>\n",
       "      <td>0.071429</td>\n",
       "      <td>0.142857</td>\n",
       "      <td>0.000000</td>\n",
       "      <td>0.071429</td>\n",
       "      <td>0.000000</td>\n",
       "      <td>0.071429</td>\n",
       "      <td>0.142857</td>\n",
       "    </tr>\n",
       "    <tr>\n",
       "      <td>Au</td>\n",
       "      <td>0.000000</td>\n",
       "      <td>0.000000</td>\n",
       "      <td>0.333333</td>\n",
       "      <td>0.000000</td>\n",
       "      <td>0.111111</td>\n",
       "      <td>0.074074</td>\n",
       "      <td>0.074074</td>\n",
       "      <td>0.185185</td>\n",
       "      <td>0.185185</td>\n",
       "      <td>0.037037</td>\n",
       "      <td>0.000000</td>\n",
       "    </tr>\n",
       "  </tbody>\n",
       "</table>\n",
       "</div>"
      ],
      "text/plain": [
       "                Bakery  Bus Stop      Café  Drugstore  German Restaurant  \\\n",
       "Neighborhood                                                               \n",
       "Allach        0.200000  0.100000  0.000000   0.200000           0.100000   \n",
       "Altschwabing  0.075000  0.000000  0.500000   0.000000           0.100000   \n",
       "Altstadt      0.000000  0.000000  0.258065   0.032258           0.096774   \n",
       "Am Hart       0.071429  0.214286  0.142857   0.071429           0.071429   \n",
       "Au            0.000000  0.000000  0.333333   0.000000           0.111111   \n",
       "\n",
       "                 Hotel  Ice Cream Shop  Italian Restaurant     Plaza  \\\n",
       "Neighborhood                                                           \n",
       "Allach        0.100000        0.000000            0.100000  0.000000   \n",
       "Altschwabing  0.000000        0.075000            0.150000  0.075000   \n",
       "Altstadt      0.258065        0.032258            0.032258  0.161290   \n",
       "Am Hart       0.142857        0.000000            0.071429  0.000000   \n",
       "Au            0.074074        0.074074            0.185185  0.185185   \n",
       "\n",
       "              Restaurant  Supermarket  \n",
       "Neighborhood                           \n",
       "Allach          0.000000     0.200000  \n",
       "Altschwabing    0.025000     0.000000  \n",
       "Altstadt        0.129032     0.000000  \n",
       "Am Hart         0.071429     0.142857  \n",
       "Au              0.037037     0.000000  "
      ]
     },
     "execution_count": 45,
     "metadata": {},
     "output_type": "execute_result"
    }
   ],
   "source": [
    "venue_freq.head()"
   ]
  },
  {
   "cell_type": "code",
   "execution_count": 46,
   "metadata": {},
   "outputs": [
    {
     "data": {
      "text/html": [
       "<div style=\"width:100%;\"><div style=\"position:relative;width:100%;height:0;padding-bottom:60%;\"><span style=\"color:#565656\">Make this Notebook Trusted to load map: File -> Trust Notebook</span><iframe src=\"about:blank\" style=\"position:absolute;width:100%;height:100%;left:0;top:0;border:none !important;\" data-html=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 onload=\"this.contentDocument.open();this.contentDocument.write(atob(this.getAttribute('data-html')));this.contentDocument.close();\" allowfullscreen webkitallowfullscreen mozallowfullscreen></iframe></div></div>"
      ],
      "text/plain": [
       "<folium.folium.Map at 0x205bd6df2c8>"
      ]
     },
     "execution_count": 46,
     "metadata": {},
     "output_type": "execute_result"
    }
   ],
   "source": [
    "address = 'Munich, DE'\n",
    "location = Nominatim(user_agent=\"Munich\").geocode(address)\n",
    "longitude = location.longitude\n",
    "latitude = location.latitude\n",
    "map_muc = folium.Map(location=[latitude, longitude], zoom_start=10)\n",
    "\n",
    "# add markers to map\n",
    "for lat, lng, stadtteil in zip(stadtteile['Latitude'], stadtteile['Longitude'], stadtteile['Stadtteil']):\n",
    "    label = '{}'.format(stadtteil)\n",
    "    label = folium.Popup(label, parse_html=True)\n",
    "    folium.CircleMarker(\n",
    "        [lat, lng],\n",
    "        radius=5,\n",
    "        popup=label,\n",
    "        color='blue',\n",
    "        fill=True,\n",
    "        fill_color='#3186cc',\n",
    "        fill_opacity=0.7,\n",
    "        parse_html=False).add_to(map_muc)  \n",
    "    \n",
    "map_muc"
   ]
  },
  {
   "cell_type": "code",
   "execution_count": 47,
   "metadata": {},
   "outputs": [],
   "source": [
    "from sklearn.cluster import KMeans, DBSCAN\n",
    "import numpy as np\n",
    "import matplotlib.cm as cm\n",
    "import matplotlib.colors as colors\n",
    "freq_copy = venue_freq.copy()"
   ]
  },
  {
   "cell_type": "code",
   "execution_count": 56,
   "metadata": {},
   "outputs": [],
   "source": [
    "venue_freq = freq_copy.copy()"
   ]
  },
  {
   "cell_type": "code",
   "execution_count": 57,
   "metadata": {},
   "outputs": [],
   "source": [
    "k = 3\n",
    "cluster = KMeans(n_clusters=k).fit(venue_freq)"
   ]
  },
  {
   "cell_type": "code",
   "execution_count": 58,
   "metadata": {},
   "outputs": [
    {
     "data": {
      "text/plain": [
       "array([ 0,  1, -1,  1,  1,  1, -1,  2,  2, -1, -1,  2,  0,  2,  1, -1, -1,\n",
       "        2,  1,  0,  1,  1,  1,  1,  1, -1,  1,  1, -1,  0,  1,  1, -1,  1,\n",
       "        1, -1, -1,  1,  1,  1, -1,  1, -1,  0,  1,  1,  1, -1],\n",
       "      dtype=int64)"
      ]
     },
     "execution_count": 58,
     "metadata": {},
     "output_type": "execute_result"
    }
   ],
   "source": [
    "density = DBSCAN(eps=0.18, min_samples=3).fit(venue_freq)\n",
    "\n",
    "density.labels_"
   ]
  },
  {
   "cell_type": "code",
   "execution_count": 59,
   "metadata": {},
   "outputs": [],
   "source": [
    "venue_freq['Cluster Label'] = cluster.labels_\n",
    "venue_freq.reset_index(inplace=True)"
   ]
  },
  {
   "cell_type": "code",
   "execution_count": 60,
   "metadata": {},
   "outputs": [],
   "source": [
    "stadtteile_used = stadtteile[stadtteile['Stadtteil'].isin(venue_freq['Neighborhood'].unique())]"
   ]
  },
  {
   "cell_type": "code",
   "execution_count": 61,
   "metadata": {},
   "outputs": [
    {
     "data": {
      "text/html": [
       "<div>\n",
       "<style scoped>\n",
       "    .dataframe tbody tr th:only-of-type {\n",
       "        vertical-align: middle;\n",
       "    }\n",
       "\n",
       "    .dataframe tbody tr th {\n",
       "        vertical-align: top;\n",
       "    }\n",
       "\n",
       "    .dataframe thead th {\n",
       "        text-align: right;\n",
       "    }\n",
       "</style>\n",
       "<table border=\"1\" class=\"dataframe\">\n",
       "  <thead>\n",
       "    <tr style=\"text-align: right;\">\n",
       "      <th></th>\n",
       "      <th>Neighborhood</th>\n",
       "      <th>Bakery</th>\n",
       "      <th>Bus Stop</th>\n",
       "      <th>Café</th>\n",
       "      <th>Drugstore</th>\n",
       "      <th>German Restaurant</th>\n",
       "      <th>Hotel</th>\n",
       "      <th>Ice Cream Shop</th>\n",
       "      <th>Italian Restaurant</th>\n",
       "      <th>Plaza</th>\n",
       "      <th>Restaurant</th>\n",
       "      <th>Supermarket</th>\n",
       "      <th>Cluster Label</th>\n",
       "    </tr>\n",
       "  </thead>\n",
       "  <tbody>\n",
       "    <tr>\n",
       "      <td>0</td>\n",
       "      <td>Allach</td>\n",
       "      <td>0.200000</td>\n",
       "      <td>0.100000</td>\n",
       "      <td>0.000000</td>\n",
       "      <td>0.200000</td>\n",
       "      <td>0.100000</td>\n",
       "      <td>0.100000</td>\n",
       "      <td>0.000000</td>\n",
       "      <td>0.100000</td>\n",
       "      <td>0.000000</td>\n",
       "      <td>0.000000</td>\n",
       "      <td>0.200000</td>\n",
       "      <td>0</td>\n",
       "    </tr>\n",
       "    <tr>\n",
       "      <td>1</td>\n",
       "      <td>Altschwabing</td>\n",
       "      <td>0.075000</td>\n",
       "      <td>0.000000</td>\n",
       "      <td>0.500000</td>\n",
       "      <td>0.000000</td>\n",
       "      <td>0.100000</td>\n",
       "      <td>0.000000</td>\n",
       "      <td>0.075000</td>\n",
       "      <td>0.150000</td>\n",
       "      <td>0.075000</td>\n",
       "      <td>0.025000</td>\n",
       "      <td>0.000000</td>\n",
       "      <td>2</td>\n",
       "    </tr>\n",
       "    <tr>\n",
       "      <td>2</td>\n",
       "      <td>Altstadt</td>\n",
       "      <td>0.000000</td>\n",
       "      <td>0.000000</td>\n",
       "      <td>0.258065</td>\n",
       "      <td>0.032258</td>\n",
       "      <td>0.096774</td>\n",
       "      <td>0.258065</td>\n",
       "      <td>0.032258</td>\n",
       "      <td>0.032258</td>\n",
       "      <td>0.161290</td>\n",
       "      <td>0.129032</td>\n",
       "      <td>0.000000</td>\n",
       "      <td>1</td>\n",
       "    </tr>\n",
       "    <tr>\n",
       "      <td>3</td>\n",
       "      <td>Am Hart</td>\n",
       "      <td>0.071429</td>\n",
       "      <td>0.214286</td>\n",
       "      <td>0.142857</td>\n",
       "      <td>0.071429</td>\n",
       "      <td>0.071429</td>\n",
       "      <td>0.142857</td>\n",
       "      <td>0.000000</td>\n",
       "      <td>0.071429</td>\n",
       "      <td>0.000000</td>\n",
       "      <td>0.071429</td>\n",
       "      <td>0.142857</td>\n",
       "      <td>0</td>\n",
       "    </tr>\n",
       "    <tr>\n",
       "      <td>4</td>\n",
       "      <td>Au</td>\n",
       "      <td>0.000000</td>\n",
       "      <td>0.000000</td>\n",
       "      <td>0.333333</td>\n",
       "      <td>0.000000</td>\n",
       "      <td>0.111111</td>\n",
       "      <td>0.074074</td>\n",
       "      <td>0.074074</td>\n",
       "      <td>0.185185</td>\n",
       "      <td>0.185185</td>\n",
       "      <td>0.037037</td>\n",
       "      <td>0.000000</td>\n",
       "      <td>2</td>\n",
       "    </tr>\n",
       "  </tbody>\n",
       "</table>\n",
       "</div>"
      ],
      "text/plain": [
       "   Neighborhood    Bakery  Bus Stop      Café  Drugstore  German Restaurant  \\\n",
       "0        Allach  0.200000  0.100000  0.000000   0.200000           0.100000   \n",
       "1  Altschwabing  0.075000  0.000000  0.500000   0.000000           0.100000   \n",
       "2      Altstadt  0.000000  0.000000  0.258065   0.032258           0.096774   \n",
       "3       Am Hart  0.071429  0.214286  0.142857   0.071429           0.071429   \n",
       "4            Au  0.000000  0.000000  0.333333   0.000000           0.111111   \n",
       "\n",
       "      Hotel  Ice Cream Shop  Italian Restaurant     Plaza  Restaurant  \\\n",
       "0  0.100000        0.000000            0.100000  0.000000    0.000000   \n",
       "1  0.000000        0.075000            0.150000  0.075000    0.025000   \n",
       "2  0.258065        0.032258            0.032258  0.161290    0.129032   \n",
       "3  0.142857        0.000000            0.071429  0.000000    0.071429   \n",
       "4  0.074074        0.074074            0.185185  0.185185    0.037037   \n",
       "\n",
       "   Supermarket  Cluster Label  \n",
       "0     0.200000              0  \n",
       "1     0.000000              2  \n",
       "2     0.000000              1  \n",
       "3     0.142857              0  \n",
       "4     0.000000              2  "
      ]
     },
     "execution_count": 61,
     "metadata": {},
     "output_type": "execute_result"
    }
   ],
   "source": [
    "venue_freq.head()"
   ]
  },
  {
   "cell_type": "code",
   "execution_count": 62,
   "metadata": {},
   "outputs": [
    {
     "name": "stdout",
     "output_type": "stream",
     "text": [
      "2\n"
     ]
    },
    {
     "data": {
      "text/html": [
       "<div style=\"width:100%;\"><div style=\"position:relative;width:100%;height:0;padding-bottom:60%;\"><span style=\"color:#565656\">Make this Notebook Trusted to load map: File -> Trust Notebook</span><iframe src=\"about:blank\" style=\"position:absolute;width:100%;height:100%;left:0;top:0;border:none !important;\" data-html=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 onload=\"this.contentDocument.open();this.contentDocument.write(atob(this.getAttribute('data-html')));this.contentDocument.close();\" allowfullscreen webkitallowfullscreen mozallowfullscreen></iframe></div></div>"
      ],
      "text/plain": [
       "<folium.folium.Map at 0x205c0f3fc08>"
      ]
     },
     "execution_count": 62,
     "metadata": {},
     "output_type": "execute_result"
    }
   ],
   "source": [
    "k = venue_freq['Cluster Label'].max()\n",
    "print(k)\n",
    "# create map\n",
    "map_clusters = folium.Map(location=[latitude, longitude], zoom_start=11)\n",
    "\n",
    "# set color scheme for the clusters\n",
    "x = np.arange(k)\n",
    "ys = [i + x + (i*x)**2 for i in range(k)]\n",
    "colors_array = cm.jet(np.linspace(0, 1, k+1))\n",
    "rainbow = [colors.rgb2hex(i) for i in colors_array]\n",
    "\n",
    "# add markers to the map\n",
    "markers_colors = []\n",
    "for lat, lon, poi, cluster in zip(stadtteile_used['Latitude'], stadtteile_used['Longitude'], venue_freq['Neighborhood'], venue_freq['Cluster Label']):\n",
    "    label = folium.Popup(str(poi) + ' Cluster ' + str(cluster), parse_html=True)\n",
    "    folium.CircleMarker(\n",
    "        [lat, lon],\n",
    "        radius=5,\n",
    "        popup=label,\n",
    "        color=rainbow[cluster-1],\n",
    "        fill=True,\n",
    "        fill_color=rainbow[cluster-1],\n",
    "        fill_opacity=0.7).add_to(map_clusters)\n",
    "       \n",
    "map_clusters"
   ]
  },
  {
   "cell_type": "code",
   "execution_count": null,
   "metadata": {},
   "outputs": [],
   "source": []
  },
  {
   "cell_type": "code",
   "execution_count": null,
   "metadata": {},
   "outputs": [],
   "source": []
  }
 ],
 "metadata": {
  "kernelspec": {
   "display_name": "Python 3",
   "language": "python",
   "name": "python3"
  },
  "language_info": {
   "codemirror_mode": {
    "name": "ipython",
    "version": 3
   },
   "file_extension": ".py",
   "mimetype": "text/x-python",
   "name": "python",
   "nbconvert_exporter": "python",
   "pygments_lexer": "ipython3",
   "version": "3.7.4"
  }
 },
 "nbformat": 4,
 "nbformat_minor": 4
}
