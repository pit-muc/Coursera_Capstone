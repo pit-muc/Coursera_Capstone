{
 "cells": [
  {
   "cell_type": "markdown",
   "metadata": {},
   "source": [
    "# Applied Data Science Capstone Final Project"
   ]
  },
  {
   "cell_type": "markdown",
   "metadata": {},
   "source": [
    "## Idea\n",
    "Moving to a new city is always a big step. Choosing the right neighborhood in the new city is difficult because while descriptions can of course help, it's difficult to estimate the real character of a neighborhood. I will try to help people moving from Berlin to Munich or vice versa making that decision by clustering neighborhoods of these cities in one pool to create a groups with a similar character. Knowing the city you are moving from you should then be able to better estimate the character of the different neighborhoods in the new one."
   ]
  },
  {
   "cell_type": "markdown",
   "metadata": {},
   "source": [
    "## Data\n",
    "I will be using lists of neighborhoods in the respective cities from the web. The geo coordinates of these neighborhoods will then be extracted from the geopy module. A collection of venues at these locations will then be requested from the foursquare database to get the character of the neighborhood."
   ]
  },
  {
   "cell_type": "code",
   "execution_count": null,
   "metadata": {},
   "outputs": [],
   "source": []
  }
 ],
 "metadata": {
  "kernelspec": {
   "display_name": "Python 3",
   "language": "python",
   "name": "python3"
  },
  "language_info": {
   "codemirror_mode": {
    "name": "ipython",
    "version": 3
   },
   "file_extension": ".py",
   "mimetype": "text/x-python",
   "name": "python",
   "nbconvert_exporter": "python",
   "pygments_lexer": "ipython3",
   "version": "3.7.4"
  }
 },
 "nbformat": 4,
 "nbformat_minor": 4
}
