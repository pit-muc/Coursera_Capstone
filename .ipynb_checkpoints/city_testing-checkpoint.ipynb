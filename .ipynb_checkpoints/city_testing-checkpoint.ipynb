{
 "cells": [
  {
   "cell_type": "code",
   "execution_count": 123,
   "metadata": {},
   "outputs": [],
   "source": [
    "import pandas as pd\n",
    "from geopy.geocoders import Nominatim \n",
    "import requests\n",
    "from pandas.io.json import json_normalize\n",
    "import folium\n",
    "pd.options.display.max_columns = None\n",
    "pd.options.display.max_rows = None\n",
    "\n"
   ]
  },
  {
   "cell_type": "code",
   "execution_count": 124,
   "metadata": {},
   "outputs": [],
   "source": [
    "stadtteile = pd.read_html('https://de.wikipedia.org/wiki/Liste_der_Stadtteile_M%C3%BCnchens')[0][['Stadtteil']]"
   ]
  },
  {
   "cell_type": "code",
   "execution_count": 125,
   "metadata": {},
   "outputs": [],
   "source": [
    "stadtteile.drop([22],inplace=True)\n",
    "stadtteile.loc[18] = 'Obergiesing'\n",
    "stadtteile.loc[19] = 'Untergiesing'\n",
    "stadtteile.loc[21] = 'Holzapfelkreuth'\n",
    "stadtteile.loc[44] = 'Schwabing'\n",
    "stadtteile.loc[45] = 'Nord Schwabing'\n",
    "stadtteile.loc[47] = 'Sendling'\n",
    "stadtteile.loc[48] = 'Untersendling'\n",
    "stadtteile.loc[49] = 'Obersendling'\n"
   ]
  },
  {
   "cell_type": "code",
   "execution_count": 127,
   "metadata": {},
   "outputs": [],
   "source": [
    "stadtteile = stadtteile.append(pd.DataFrame({'Stadtteil':['Altschwabing','West Schwabing','Mittersendling']}),ignore_index=True).sort_values(by='Stadtteil').reset_index(drop=True)"
   ]
  },
  {
   "cell_type": "code",
   "execution_count": 128,
   "metadata": {},
   "outputs": [],
   "source": [
    "address = 'Holzapfelkreuth Munich, DE'\n",
    "location = Nominatim(user_agent=\"toronto\").geocode(address)\n",
    "longitude = location.longitude\n",
    "latitude = location.latitude"
   ]
  },
  {
   "cell_type": "code",
   "execution_count": 129,
   "metadata": {
    "collapsed": true,
    "jupyter": {
     "outputs_hidden": true
    }
   },
   "outputs": [
    {
     "name": "stdout",
     "output_type": "stream",
     "text": [
      "Allach\n",
      "Altschwabing\n",
      "Altstadt\n",
      "Am Hart\n",
      "Am Moosfeld\n",
      "Am Riesenfeld\n",
      "Au\n",
      "Aubing\n",
      "Berg am Laim\n",
      "Bogenhausen\n",
      "Daglfing\n",
      "Denning\n",
      "Englschalking\n",
      "Fasangarten\n",
      "Feldmoching\n",
      "Forstenried\n",
      "Freiham\n",
      "Freimann\n",
      "Fürstenried\n",
      "Hadern\n",
      "Haidhausen\n",
      "Harlaching\n",
      "Hasenbergl\n",
      "Holzapfelkreuth\n",
      "Isarvorstadt\n",
      "Johanneskirchen\n",
      "Laim\n",
      "Langwied\n",
      "Lehel\n",
      "Lochhausen\n",
      "Ludwigsvorstadt\n",
      "Maxvorstadt\n",
      "Milbertshofen\n",
      "Mittersendling\n",
      "Moosach\n",
      "Neuhausen\n",
      "Nord Schwabing\n",
      "Nymphenburg\n",
      "Oberföhring\n",
      "Obergiesing\n",
      "Obermenzing\n",
      "Obersendling\n",
      "Pasing\n",
      "Perlach\n",
      "Ramersdorf\n",
      "Riem\n",
      "Schwabing\n",
      "Schwanthalerhöhe\n",
      "Sendling\n",
      "Solln\n",
      "Steinhausen\n",
      "Thalkirchen\n",
      "Trudering\n",
      "Untergiesing\n",
      "Untermenzing\n",
      "Untersendling\n",
      "West Schwabing\n",
      "Zamdorf\n"
     ]
    }
   ],
   "source": [
    "for stadtteil in stadtteile['Stadtteil']:\n",
    "    print(stadtteil)\n",
    "    address = str(stadtteil)+' Munich, DE'\n",
    "    location = Nominatim(user_agent=\"toronto\").geocode(address)\n",
    "    stadtteile.loc[stadtteile['Stadtteil'] == stadtteil,'Latitude'] = location.latitude\n",
    "    stadtteile.loc[stadtteile['Stadtteil'] == stadtteil,'Longitude'] = location.longitude"
   ]
  },
  {
   "cell_type": "code",
   "execution_count": 131,
   "metadata": {},
   "outputs": [],
   "source": [
    "stadtteile.to_csv('stadtteile_muc.csv')"
   ]
  },
  {
   "cell_type": "code",
   "execution_count": 89,
   "metadata": {
    "collapsed": true,
    "jupyter": {
     "outputs_hidden": true
    }
   },
   "outputs": [
    {
     "data": {
      "text/html": [
       "<div style=\"width:100%;\"><div style=\"position:relative;width:100%;height:0;padding-bottom:60%;\"><span style=\"color:#565656\">Make this Notebook Trusted to load map: File -> Trust Notebook</span><iframe src=\"about:blank\" style=\"position:absolute;width:100%;height:100%;left:0;top:0;border:none !important;\" data-html=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 onload=\"this.contentDocument.open();this.contentDocument.write(atob(this.getAttribute('data-html')));this.contentDocument.close();\" allowfullscreen webkitallowfullscreen mozallowfullscreen></iframe></div></div>"
      ],
      "text/plain": [
       "<folium.folium.Map at 0x1f94fee8208>"
      ]
     },
     "execution_count": 89,
     "metadata": {},
     "output_type": "execute_result"
    }
   ],
   "source": [
    "map_city = folium.Map(location=[latitude, longitude], zoom_start=14)\n",
    "map_city"
   ]
  },
  {
   "cell_type": "code",
   "execution_count": 8,
   "metadata": {},
   "outputs": [],
   "source": [
    "CLIENT_ID = 'WC4YTOLELHB5LBYGCGOEWTWCMCD0NMM3JWJKMDH0JSQ31JJR' # your Foursquare ID\n",
    "CLIENT_SECRET = 'A33R3HGGAVZ1LGGOPDAZV45RQKTOJJCKUTVSKR2LAT1HEASA' # your Foursquare Secret\n",
    "VERSION = '20180605' # Foursquare API version\n",
    "LIMIT = 100 # A default Foursquare API limit value"
   ]
  },
  {
   "cell_type": "markdown",
   "metadata": {},
   "source": [
    "Using the function from the lab"
   ]
  },
  {
   "cell_type": "code",
   "execution_count": 6,
   "metadata": {
    "jupyter": {
     "source_hidden": true
    }
   },
   "outputs": [],
   "source": [
    "def getNearbyVenues(names, latitudes, longitudes, radius=500):\n",
    "    \n",
    "    venues_list=[]\n",
    "    for name, lat, lng in zip(names, latitudes, longitudes):\n",
    "        print(name)\n",
    "            \n",
    "        # create the API request URL\n",
    "        url = 'https://api.foursquare.com/v2/venues/explore?&client_id={}&client_secret={}&v={}&ll={},{}&radius={}&limit={}'.format(\n",
    "            CLIENT_ID, \n",
    "            CLIENT_SECRET, \n",
    "            VERSION, \n",
    "            lat, \n",
    "            lng, \n",
    "            radius, \n",
    "            LIMIT)\n",
    "            \n",
    "        # make the GET request\n",
    "        results = requests.get(url).json()[\"response\"]['groups'][0]['items']\n",
    "        \n",
    "        # return only relevant information for each nearby venue\n",
    "        venues_list.append([(\n",
    "            name, \n",
    "            lat, \n",
    "            lng, \n",
    "            v['venue']['name'], \n",
    "            v['venue']['location']['lat'], \n",
    "            v['venue']['location']['lng'],  \n",
    "            v['venue']['categories'][0]['name']) for v in results])\n",
    "\n",
    "    nearby_venues = pd.DataFrame([item for venue_list in venues_list for item in venue_list])\n",
    "    nearby_venues.columns = ['Neighborhood', \n",
    "                  'Neighborhood Latitude', \n",
    "                  'Neighborhood Longitude', \n",
    "                  'Venue', \n",
    "                  'Venue Latitude', \n",
    "                  'Venue Longitude', \n",
    "                  'Venue Category']\n",
    "    \n",
    "    return(nearby_venues)"
   ]
  },
  {
   "cell_type": "code",
   "execution_count": 144,
   "metadata": {
    "collapsed": true,
    "jupyter": {
     "outputs_hidden": true
    }
   },
   "outputs": [
    {
     "name": "stdout",
     "output_type": "stream",
     "text": [
      "Allach\n",
      "Altschwabing\n",
      "Altstadt\n",
      "Am Hart\n",
      "Am Moosfeld\n",
      "Am Riesenfeld\n",
      "Au\n",
      "Aubing\n",
      "Berg am Laim\n",
      "Bogenhausen\n",
      "Daglfing\n",
      "Denning\n",
      "Englschalking\n",
      "Fasangarten\n",
      "Feldmoching\n",
      "Forstenried\n",
      "Freiham\n",
      "Freimann\n",
      "Fürstenried\n",
      "Hadern\n",
      "Haidhausen\n",
      "Harlaching\n",
      "Hasenbergl\n",
      "Holzapfelkreuth\n",
      "Isarvorstadt\n",
      "Johanneskirchen\n",
      "Laim\n",
      "Langwied\n",
      "Lehel\n",
      "Lochhausen\n",
      "Ludwigsvorstadt\n",
      "Maxvorstadt\n",
      "Milbertshofen\n",
      "Mittersendling\n",
      "Moosach\n",
      "Neuhausen\n",
      "Nord Schwabing\n",
      "Nymphenburg\n",
      "Oberföhring\n",
      "Obergiesing\n",
      "Obermenzing\n",
      "Obersendling\n",
      "Pasing\n",
      "Perlach\n",
      "Ramersdorf\n",
      "Riem\n",
      "Schwabing\n",
      "Schwanthalerhöhe\n",
      "Sendling\n",
      "Solln\n",
      "Steinhausen\n",
      "Thalkirchen\n",
      "Trudering\n",
      "Untergiesing\n",
      "Untermenzing\n",
      "Untersendling\n",
      "West Schwabing\n",
      "Zamdorf\n"
     ]
    }
   ],
   "source": [
    "names = stadtteile['Stadtteil']\n",
    "latitudes = stadtteile['Latitude']\n",
    "longitudes = stadtteile['Longitude']\n",
    "\n",
    "df = getNearbyVenues(names,latitudes,longitudes,radius=1000)"
   ]
  },
  {
   "cell_type": "code",
   "execution_count": 145,
   "metadata": {},
   "outputs": [],
   "source": [
    "df.to_csv('venues_muc.csv')"
   ]
  },
  {
   "cell_type": "code",
   "execution_count": 319,
   "metadata": {},
   "outputs": [],
   "source": [
    "df = pd.read_csv('venues_muc.csv').drop('Unnamed: 0',axis=1)"
   ]
  },
  {
   "cell_type": "code",
   "execution_count": 320,
   "metadata": {},
   "outputs": [
    {
     "data": {
      "text/html": [
       "<div>\n",
       "<style scoped>\n",
       "    .dataframe tbody tr th:only-of-type {\n",
       "        vertical-align: middle;\n",
       "    }\n",
       "\n",
       "    .dataframe tbody tr th {\n",
       "        vertical-align: top;\n",
       "    }\n",
       "\n",
       "    .dataframe thead th {\n",
       "        text-align: right;\n",
       "    }\n",
       "</style>\n",
       "<table border=\"1\" class=\"dataframe\">\n",
       "  <thead>\n",
       "    <tr style=\"text-align: right;\">\n",
       "      <th></th>\n",
       "      <th>Neighborhood</th>\n",
       "      <th>Neighborhood Latitude</th>\n",
       "      <th>Neighborhood Longitude</th>\n",
       "      <th>Venue</th>\n",
       "      <th>Venue Latitude</th>\n",
       "      <th>Venue Longitude</th>\n",
       "      <th>Venue Category</th>\n",
       "    </tr>\n",
       "  </thead>\n",
       "  <tbody>\n",
       "    <tr>\n",
       "      <td>0</td>\n",
       "      <td>Allach</td>\n",
       "      <td>48.195994</td>\n",
       "      <td>11.457013</td>\n",
       "      <td>Bäckerei Schuhmair</td>\n",
       "      <td>48.197175</td>\n",
       "      <td>11.459016</td>\n",
       "      <td>Bakery</td>\n",
       "    </tr>\n",
       "  </tbody>\n",
       "</table>\n",
       "</div>"
      ],
      "text/plain": [
       "  Neighborhood  Neighborhood Latitude  Neighborhood Longitude  \\\n",
       "0       Allach              48.195994               11.457013   \n",
       "\n",
       "                Venue  Venue Latitude  Venue Longitude Venue Category  \n",
       "0  Bäckerei Schuhmair       48.197175        11.459016         Bakery  "
      ]
     },
     "execution_count": 320,
     "metadata": {},
     "output_type": "execute_result"
    }
   ],
   "source": [
    "df.head(1)"
   ]
  },
  {
   "cell_type": "markdown",
   "metadata": {},
   "source": [
    "Only use categories that occure more than 20 times"
   ]
  },
  {
   "cell_type": "code",
   "execution_count": 321,
   "metadata": {},
   "outputs": [],
   "source": [
    "venue_count = df.groupby('Venue Category').size().sort_values(ascending=False)"
   ]
  },
  {
   "cell_type": "code",
   "execution_count": 322,
   "metadata": {},
   "outputs": [],
   "source": [
    "df = df[df['Venue Category'].isin(venue_count[venue_count>50].index)]"
   ]
  },
  {
   "cell_type": "markdown",
   "metadata": {},
   "source": [
    "Only consider Neighborhoods with 10 or more entries"
   ]
  },
  {
   "cell_type": "code",
   "execution_count": 323,
   "metadata": {},
   "outputs": [],
   "source": [
    "neighborhood_count = df.groupby('Neighborhood').size().sort_values(ascending=False)"
   ]
  },
  {
   "cell_type": "code",
   "execution_count": 324,
   "metadata": {},
   "outputs": [],
   "source": [
    "df = df[df['Neighborhood'].isin(neighborhood_count[neighborhood_count>=10].index)].reset_index(drop=True)"
   ]
  },
  {
   "cell_type": "code",
   "execution_count": 325,
   "metadata": {},
   "outputs": [],
   "source": [
    "one_hot = pd.get_dummies(df['Venue Category'])"
   ]
  },
  {
   "cell_type": "code",
   "execution_count": 326,
   "metadata": {},
   "outputs": [],
   "source": [
    "df = pd.merge(df,one_hot,left_index=True,right_index=True,how='inner')"
   ]
  },
  {
   "cell_type": "code",
   "execution_count": 327,
   "metadata": {},
   "outputs": [
    {
     "data": {
      "text/html": [
       "<div>\n",
       "<style scoped>\n",
       "    .dataframe tbody tr th:only-of-type {\n",
       "        vertical-align: middle;\n",
       "    }\n",
       "\n",
       "    .dataframe tbody tr th {\n",
       "        vertical-align: top;\n",
       "    }\n",
       "\n",
       "    .dataframe thead th {\n",
       "        text-align: right;\n",
       "    }\n",
       "</style>\n",
       "<table border=\"1\" class=\"dataframe\">\n",
       "  <thead>\n",
       "    <tr style=\"text-align: right;\">\n",
       "      <th></th>\n",
       "      <th>Neighborhood</th>\n",
       "      <th>Neighborhood Latitude</th>\n",
       "      <th>Neighborhood Longitude</th>\n",
       "      <th>Venue</th>\n",
       "      <th>Venue Latitude</th>\n",
       "      <th>Venue Longitude</th>\n",
       "      <th>Venue Category</th>\n",
       "      <th>Bakery</th>\n",
       "      <th>Bus Stop</th>\n",
       "      <th>Café</th>\n",
       "      <th>Drugstore</th>\n",
       "      <th>German Restaurant</th>\n",
       "      <th>Hotel</th>\n",
       "      <th>Ice Cream Shop</th>\n",
       "      <th>Italian Restaurant</th>\n",
       "      <th>Plaza</th>\n",
       "      <th>Restaurant</th>\n",
       "      <th>Supermarket</th>\n",
       "    </tr>\n",
       "  </thead>\n",
       "  <tbody>\n",
       "    <tr>\n",
       "      <td>0</td>\n",
       "      <td>Allach</td>\n",
       "      <td>48.195994</td>\n",
       "      <td>11.457013</td>\n",
       "      <td>Bäckerei Schuhmair</td>\n",
       "      <td>48.197175</td>\n",
       "      <td>11.459016</td>\n",
       "      <td>Bakery</td>\n",
       "      <td>1</td>\n",
       "      <td>0</td>\n",
       "      <td>0</td>\n",
       "      <td>0</td>\n",
       "      <td>0</td>\n",
       "      <td>0</td>\n",
       "      <td>0</td>\n",
       "      <td>0</td>\n",
       "      <td>0</td>\n",
       "      <td>0</td>\n",
       "      <td>0</td>\n",
       "    </tr>\n",
       "    <tr>\n",
       "      <td>1</td>\n",
       "      <td>Allach</td>\n",
       "      <td>48.195994</td>\n",
       "      <td>11.457013</td>\n",
       "      <td>Würmtalhof</td>\n",
       "      <td>48.188834</td>\n",
       "      <td>11.460680</td>\n",
       "      <td>German Restaurant</td>\n",
       "      <td>0</td>\n",
       "      <td>0</td>\n",
       "      <td>0</td>\n",
       "      <td>0</td>\n",
       "      <td>1</td>\n",
       "      <td>0</td>\n",
       "      <td>0</td>\n",
       "      <td>0</td>\n",
       "      <td>0</td>\n",
       "      <td>0</td>\n",
       "      <td>0</td>\n",
       "    </tr>\n",
       "    <tr>\n",
       "      <td>2</td>\n",
       "      <td>Allach</td>\n",
       "      <td>48.195994</td>\n",
       "      <td>11.457013</td>\n",
       "      <td>Westside Hotel</td>\n",
       "      <td>48.201045</td>\n",
       "      <td>11.458564</td>\n",
       "      <td>Hotel</td>\n",
       "      <td>0</td>\n",
       "      <td>0</td>\n",
       "      <td>0</td>\n",
       "      <td>0</td>\n",
       "      <td>0</td>\n",
       "      <td>1</td>\n",
       "      <td>0</td>\n",
       "      <td>0</td>\n",
       "      <td>0</td>\n",
       "      <td>0</td>\n",
       "      <td>0</td>\n",
       "    </tr>\n",
       "    <tr>\n",
       "      <td>3</td>\n",
       "      <td>Allach</td>\n",
       "      <td>48.195994</td>\n",
       "      <td>11.457013</td>\n",
       "      <td>Sicilia</td>\n",
       "      <td>48.193331</td>\n",
       "      <td>11.459387</td>\n",
       "      <td>Italian Restaurant</td>\n",
       "      <td>0</td>\n",
       "      <td>0</td>\n",
       "      <td>0</td>\n",
       "      <td>0</td>\n",
       "      <td>0</td>\n",
       "      <td>0</td>\n",
       "      <td>0</td>\n",
       "      <td>1</td>\n",
       "      <td>0</td>\n",
       "      <td>0</td>\n",
       "      <td>0</td>\n",
       "    </tr>\n",
       "    <tr>\n",
       "      <td>4</td>\n",
       "      <td>Allach</td>\n",
       "      <td>48.195994</td>\n",
       "      <td>11.457013</td>\n",
       "      <td>dm-drogerie markt</td>\n",
       "      <td>48.194118</td>\n",
       "      <td>11.465640</td>\n",
       "      <td>Drugstore</td>\n",
       "      <td>0</td>\n",
       "      <td>0</td>\n",
       "      <td>0</td>\n",
       "      <td>1</td>\n",
       "      <td>0</td>\n",
       "      <td>0</td>\n",
       "      <td>0</td>\n",
       "      <td>0</td>\n",
       "      <td>0</td>\n",
       "      <td>0</td>\n",
       "      <td>0</td>\n",
       "    </tr>\n",
       "  </tbody>\n",
       "</table>\n",
       "</div>"
      ],
      "text/plain": [
       "  Neighborhood  Neighborhood Latitude  Neighborhood Longitude  \\\n",
       "0       Allach              48.195994               11.457013   \n",
       "1       Allach              48.195994               11.457013   \n",
       "2       Allach              48.195994               11.457013   \n",
       "3       Allach              48.195994               11.457013   \n",
       "4       Allach              48.195994               11.457013   \n",
       "\n",
       "                Venue  Venue Latitude  Venue Longitude      Venue Category  \\\n",
       "0  Bäckerei Schuhmair       48.197175        11.459016              Bakery   \n",
       "1          Würmtalhof       48.188834        11.460680   German Restaurant   \n",
       "2      Westside Hotel       48.201045        11.458564               Hotel   \n",
       "3             Sicilia       48.193331        11.459387  Italian Restaurant   \n",
       "4   dm-drogerie markt       48.194118        11.465640           Drugstore   \n",
       "\n",
       "   Bakery  Bus Stop  Café  Drugstore  German Restaurant  Hotel  \\\n",
       "0       1         0     0          0                  0      0   \n",
       "1       0         0     0          0                  1      0   \n",
       "2       0         0     0          0                  0      1   \n",
       "3       0         0     0          0                  0      0   \n",
       "4       0         0     0          1                  0      0   \n",
       "\n",
       "   Ice Cream Shop  Italian Restaurant  Plaza  Restaurant  Supermarket  \n",
       "0               0                   0      0           0            0  \n",
       "1               0                   0      0           0            0  \n",
       "2               0                   0      0           0            0  \n",
       "3               0                   1      0           0            0  \n",
       "4               0                   0      0           0            0  "
      ]
     },
     "execution_count": 327,
     "metadata": {},
     "output_type": "execute_result"
    }
   ],
   "source": [
    "df.head()"
   ]
  },
  {
   "cell_type": "code",
   "execution_count": 328,
   "metadata": {},
   "outputs": [],
   "source": [
    "venue_freq = df.groupby('Neighborhood').mean()\n",
    "\n",
    "venue_freq = venue_freq.drop(venue_freq.columns.values[0:4],axis=1)"
   ]
  },
  {
   "cell_type": "code",
   "execution_count": 329,
   "metadata": {},
   "outputs": [
    {
     "data": {
      "text/html": [
       "<div>\n",
       "<style scoped>\n",
       "    .dataframe tbody tr th:only-of-type {\n",
       "        vertical-align: middle;\n",
       "    }\n",
       "\n",
       "    .dataframe tbody tr th {\n",
       "        vertical-align: top;\n",
       "    }\n",
       "\n",
       "    .dataframe thead th {\n",
       "        text-align: right;\n",
       "    }\n",
       "</style>\n",
       "<table border=\"1\" class=\"dataframe\">\n",
       "  <thead>\n",
       "    <tr style=\"text-align: right;\">\n",
       "      <th></th>\n",
       "      <th>Bakery</th>\n",
       "      <th>Bus Stop</th>\n",
       "      <th>Café</th>\n",
       "      <th>Drugstore</th>\n",
       "      <th>German Restaurant</th>\n",
       "      <th>Hotel</th>\n",
       "      <th>Ice Cream Shop</th>\n",
       "      <th>Italian Restaurant</th>\n",
       "      <th>Plaza</th>\n",
       "      <th>Restaurant</th>\n",
       "      <th>Supermarket</th>\n",
       "    </tr>\n",
       "    <tr>\n",
       "      <th>Neighborhood</th>\n",
       "      <th></th>\n",
       "      <th></th>\n",
       "      <th></th>\n",
       "      <th></th>\n",
       "      <th></th>\n",
       "      <th></th>\n",
       "      <th></th>\n",
       "      <th></th>\n",
       "      <th></th>\n",
       "      <th></th>\n",
       "      <th></th>\n",
       "    </tr>\n",
       "  </thead>\n",
       "  <tbody>\n",
       "    <tr>\n",
       "      <td>Allach</td>\n",
       "      <td>0.200000</td>\n",
       "      <td>0.100000</td>\n",
       "      <td>0.000000</td>\n",
       "      <td>0.200000</td>\n",
       "      <td>0.100000</td>\n",
       "      <td>0.100000</td>\n",
       "      <td>0.000000</td>\n",
       "      <td>0.100000</td>\n",
       "      <td>0.000000</td>\n",
       "      <td>0.000000</td>\n",
       "      <td>0.200000</td>\n",
       "    </tr>\n",
       "    <tr>\n",
       "      <td>Altschwabing</td>\n",
       "      <td>0.075000</td>\n",
       "      <td>0.000000</td>\n",
       "      <td>0.500000</td>\n",
       "      <td>0.000000</td>\n",
       "      <td>0.100000</td>\n",
       "      <td>0.000000</td>\n",
       "      <td>0.075000</td>\n",
       "      <td>0.150000</td>\n",
       "      <td>0.075000</td>\n",
       "      <td>0.025000</td>\n",
       "      <td>0.000000</td>\n",
       "    </tr>\n",
       "    <tr>\n",
       "      <td>Altstadt</td>\n",
       "      <td>0.000000</td>\n",
       "      <td>0.000000</td>\n",
       "      <td>0.258065</td>\n",
       "      <td>0.032258</td>\n",
       "      <td>0.096774</td>\n",
       "      <td>0.258065</td>\n",
       "      <td>0.032258</td>\n",
       "      <td>0.032258</td>\n",
       "      <td>0.161290</td>\n",
       "      <td>0.129032</td>\n",
       "      <td>0.000000</td>\n",
       "    </tr>\n",
       "    <tr>\n",
       "      <td>Am Hart</td>\n",
       "      <td>0.071429</td>\n",
       "      <td>0.214286</td>\n",
       "      <td>0.142857</td>\n",
       "      <td>0.071429</td>\n",
       "      <td>0.071429</td>\n",
       "      <td>0.142857</td>\n",
       "      <td>0.000000</td>\n",
       "      <td>0.071429</td>\n",
       "      <td>0.000000</td>\n",
       "      <td>0.071429</td>\n",
       "      <td>0.142857</td>\n",
       "    </tr>\n",
       "    <tr>\n",
       "      <td>Au</td>\n",
       "      <td>0.000000</td>\n",
       "      <td>0.000000</td>\n",
       "      <td>0.333333</td>\n",
       "      <td>0.000000</td>\n",
       "      <td>0.111111</td>\n",
       "      <td>0.074074</td>\n",
       "      <td>0.074074</td>\n",
       "      <td>0.185185</td>\n",
       "      <td>0.185185</td>\n",
       "      <td>0.037037</td>\n",
       "      <td>0.000000</td>\n",
       "    </tr>\n",
       "  </tbody>\n",
       "</table>\n",
       "</div>"
      ],
      "text/plain": [
       "                Bakery  Bus Stop      Café  Drugstore  German Restaurant  \\\n",
       "Neighborhood                                                               \n",
       "Allach        0.200000  0.100000  0.000000   0.200000           0.100000   \n",
       "Altschwabing  0.075000  0.000000  0.500000   0.000000           0.100000   \n",
       "Altstadt      0.000000  0.000000  0.258065   0.032258           0.096774   \n",
       "Am Hart       0.071429  0.214286  0.142857   0.071429           0.071429   \n",
       "Au            0.000000  0.000000  0.333333   0.000000           0.111111   \n",
       "\n",
       "                 Hotel  Ice Cream Shop  Italian Restaurant     Plaza  \\\n",
       "Neighborhood                                                           \n",
       "Allach        0.100000        0.000000            0.100000  0.000000   \n",
       "Altschwabing  0.000000        0.075000            0.150000  0.075000   \n",
       "Altstadt      0.258065        0.032258            0.032258  0.161290   \n",
       "Am Hart       0.142857        0.000000            0.071429  0.000000   \n",
       "Au            0.074074        0.074074            0.185185  0.185185   \n",
       "\n",
       "              Restaurant  Supermarket  \n",
       "Neighborhood                           \n",
       "Allach          0.000000     0.200000  \n",
       "Altschwabing    0.025000     0.000000  \n",
       "Altstadt        0.129032     0.000000  \n",
       "Am Hart         0.071429     0.142857  \n",
       "Au              0.037037     0.000000  "
      ]
     },
     "execution_count": 329,
     "metadata": {},
     "output_type": "execute_result"
    }
   ],
   "source": [
    "venue_freq.head()"
   ]
  },
  {
   "cell_type": "code",
   "execution_count": 330,
   "metadata": {},
   "outputs": [
    {
     "data": {
      "text/html": [
       "<div style=\"width:100%;\"><div style=\"position:relative;width:100%;height:0;padding-bottom:60%;\"><span style=\"color:#565656\">Make this Notebook Trusted to load map: File -> Trust Notebook</span><iframe src=\"about:blank\" style=\"position:absolute;width:100%;height:100%;left:0;top:0;border:none !important;\" data-html=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 onload=\"this.contentDocument.open();this.contentDocument.write(atob(this.getAttribute('data-html')));this.contentDocument.close();\" allowfullscreen webkitallowfullscreen mozallowfullscreen></iframe></div></div>"
      ],
      "text/plain": [
       "<folium.folium.Map at 0x1f95173aac8>"
      ]
     },
     "execution_count": 330,
     "metadata": {},
     "output_type": "execute_result"
    }
   ],
   "source": [
    "address = 'Munich, DE'\n",
    "location = Nominatim(user_agent=\"Munich\").geocode(address)\n",
    "longitude = location.longitude\n",
    "latitude = location.latitude\n",
    "map_muc = folium.Map(location=[latitude, longitude], zoom_start=10)\n",
    "\n",
    "# add markers to map\n",
    "for lat, lng, stadtteil in zip(stadtteile['Latitude'], stadtteile['Longitude'], stadtteile['Stadtteil']):\n",
    "    label = '{}'.format(stadtteil)\n",
    "    label = folium.Popup(label, parse_html=True)\n",
    "    folium.CircleMarker(\n",
    "        [lat, lng],\n",
    "        radius=5,\n",
    "        popup=label,\n",
    "        color='blue',\n",
    "        fill=True,\n",
    "        fill_color='#3186cc',\n",
    "        fill_opacity=0.7,\n",
    "        parse_html=False).add_to(map_muc)  \n",
    "    \n",
    "map_muc"
   ]
  },
  {
   "cell_type": "code",
   "execution_count": 336,
   "metadata": {},
   "outputs": [],
   "source": [
    "from sklearn.cluster import KMeans, DBSCAN\n",
    "import numpy as np\n",
    "import matplotlib.cm as cm\n",
    "import matplotlib.colors as colors\n",
    "freq_copy = venue_freq.copy()"
   ]
  },
  {
   "cell_type": "code",
   "execution_count": 391,
   "metadata": {},
   "outputs": [],
   "source": [
    "venue_freq = freq_copy.copy()"
   ]
  },
  {
   "cell_type": "code",
   "execution_count": 351,
   "metadata": {
    "collapsed": true,
    "jupyter": {
     "outputs_hidden": true
    }
   },
   "outputs": [
    {
     "ename": "ValueError",
     "evalue": "could not convert string to float: 'Zamdorf'",
     "output_type": "error",
     "traceback": [
      "\u001b[1;31m---------------------------------------------------------------------------\u001b[0m",
      "\u001b[1;31mValueError\u001b[0m                                Traceback (most recent call last)",
      "\u001b[1;32m<ipython-input-351-b528fa6f48d1>\u001b[0m in \u001b[0;36m<module>\u001b[1;34m\u001b[0m\n\u001b[0;32m      1\u001b[0m \u001b[0mk\u001b[0m \u001b[1;33m=\u001b[0m \u001b[1;36m4\u001b[0m\u001b[1;33m\u001b[0m\u001b[1;33m\u001b[0m\u001b[0m\n\u001b[1;32m----> 2\u001b[1;33m \u001b[0mcluster\u001b[0m \u001b[1;33m=\u001b[0m \u001b[0mKMeans\u001b[0m\u001b[1;33m(\u001b[0m\u001b[0mn_clusters\u001b[0m\u001b[1;33m=\u001b[0m\u001b[0mk\u001b[0m\u001b[1;33m)\u001b[0m\u001b[1;33m.\u001b[0m\u001b[0mfit\u001b[0m\u001b[1;33m(\u001b[0m\u001b[0mvenue_freq\u001b[0m\u001b[1;33m)\u001b[0m\u001b[1;33m\u001b[0m\u001b[1;33m\u001b[0m\u001b[0m\n\u001b[0m",
      "\u001b[1;32me:\\Programme\\Anaconda3\\lib\\site-packages\\sklearn\\cluster\\k_means_.py\u001b[0m in \u001b[0;36mfit\u001b[1;34m(self, X, y, sample_weight)\u001b[0m\n\u001b[0;32m    970\u001b[0m                 \u001b[0mtol\u001b[0m\u001b[1;33m=\u001b[0m\u001b[0mself\u001b[0m\u001b[1;33m.\u001b[0m\u001b[0mtol\u001b[0m\u001b[1;33m,\u001b[0m \u001b[0mrandom_state\u001b[0m\u001b[1;33m=\u001b[0m\u001b[0mrandom_state\u001b[0m\u001b[1;33m,\u001b[0m \u001b[0mcopy_x\u001b[0m\u001b[1;33m=\u001b[0m\u001b[0mself\u001b[0m\u001b[1;33m.\u001b[0m\u001b[0mcopy_x\u001b[0m\u001b[1;33m,\u001b[0m\u001b[1;33m\u001b[0m\u001b[1;33m\u001b[0m\u001b[0m\n\u001b[0;32m    971\u001b[0m                 \u001b[0mn_jobs\u001b[0m\u001b[1;33m=\u001b[0m\u001b[0mself\u001b[0m\u001b[1;33m.\u001b[0m\u001b[0mn_jobs\u001b[0m\u001b[1;33m,\u001b[0m \u001b[0malgorithm\u001b[0m\u001b[1;33m=\u001b[0m\u001b[0mself\u001b[0m\u001b[1;33m.\u001b[0m\u001b[0malgorithm\u001b[0m\u001b[1;33m,\u001b[0m\u001b[1;33m\u001b[0m\u001b[1;33m\u001b[0m\u001b[0m\n\u001b[1;32m--> 972\u001b[1;33m                 return_n_iter=True)\n\u001b[0m\u001b[0;32m    973\u001b[0m         \u001b[1;32mreturn\u001b[0m \u001b[0mself\u001b[0m\u001b[1;33m\u001b[0m\u001b[1;33m\u001b[0m\u001b[0m\n\u001b[0;32m    974\u001b[0m \u001b[1;33m\u001b[0m\u001b[0m\n",
      "\u001b[1;32me:\\Programme\\Anaconda3\\lib\\site-packages\\sklearn\\cluster\\k_means_.py\u001b[0m in \u001b[0;36mk_means\u001b[1;34m(X, n_clusters, sample_weight, init, precompute_distances, n_init, max_iter, verbose, tol, random_state, copy_x, n_jobs, algorithm, return_n_iter)\u001b[0m\n\u001b[0;32m    310\u001b[0m     \u001b[0morder\u001b[0m \u001b[1;33m=\u001b[0m \u001b[1;34m\"C\"\u001b[0m \u001b[1;32mif\u001b[0m \u001b[0mcopy_x\u001b[0m \u001b[1;32melse\u001b[0m \u001b[1;32mNone\u001b[0m\u001b[1;33m\u001b[0m\u001b[1;33m\u001b[0m\u001b[0m\n\u001b[0;32m    311\u001b[0m     X = check_array(X, accept_sparse='csr', dtype=[np.float64, np.float32],\n\u001b[1;32m--> 312\u001b[1;33m                     order=order, copy=copy_x)\n\u001b[0m\u001b[0;32m    313\u001b[0m     \u001b[1;31m# verify that the number of samples given is larger than k\u001b[0m\u001b[1;33m\u001b[0m\u001b[1;33m\u001b[0m\u001b[1;33m\u001b[0m\u001b[0m\n\u001b[0;32m    314\u001b[0m     \u001b[1;32mif\u001b[0m \u001b[0m_num_samples\u001b[0m\u001b[1;33m(\u001b[0m\u001b[0mX\u001b[0m\u001b[1;33m)\u001b[0m \u001b[1;33m<\u001b[0m \u001b[0mn_clusters\u001b[0m\u001b[1;33m:\u001b[0m\u001b[1;33m\u001b[0m\u001b[1;33m\u001b[0m\u001b[0m\n",
      "\u001b[1;32me:\\Programme\\Anaconda3\\lib\\site-packages\\sklearn\\utils\\validation.py\u001b[0m in \u001b[0;36mcheck_array\u001b[1;34m(array, accept_sparse, accept_large_sparse, dtype, order, copy, force_all_finite, ensure_2d, allow_nd, ensure_min_samples, ensure_min_features, warn_on_dtype, estimator)\u001b[0m\n\u001b[0;32m    494\u001b[0m             \u001b[1;32mtry\u001b[0m\u001b[1;33m:\u001b[0m\u001b[1;33m\u001b[0m\u001b[1;33m\u001b[0m\u001b[0m\n\u001b[0;32m    495\u001b[0m                 \u001b[0mwarnings\u001b[0m\u001b[1;33m.\u001b[0m\u001b[0msimplefilter\u001b[0m\u001b[1;33m(\u001b[0m\u001b[1;34m'error'\u001b[0m\u001b[1;33m,\u001b[0m \u001b[0mComplexWarning\u001b[0m\u001b[1;33m)\u001b[0m\u001b[1;33m\u001b[0m\u001b[1;33m\u001b[0m\u001b[0m\n\u001b[1;32m--> 496\u001b[1;33m                 \u001b[0marray\u001b[0m \u001b[1;33m=\u001b[0m \u001b[0mnp\u001b[0m\u001b[1;33m.\u001b[0m\u001b[0masarray\u001b[0m\u001b[1;33m(\u001b[0m\u001b[0marray\u001b[0m\u001b[1;33m,\u001b[0m \u001b[0mdtype\u001b[0m\u001b[1;33m=\u001b[0m\u001b[0mdtype\u001b[0m\u001b[1;33m,\u001b[0m \u001b[0morder\u001b[0m\u001b[1;33m=\u001b[0m\u001b[0morder\u001b[0m\u001b[1;33m)\u001b[0m\u001b[1;33m\u001b[0m\u001b[1;33m\u001b[0m\u001b[0m\n\u001b[0m\u001b[0;32m    497\u001b[0m             \u001b[1;32mexcept\u001b[0m \u001b[0mComplexWarning\u001b[0m\u001b[1;33m:\u001b[0m\u001b[1;33m\u001b[0m\u001b[1;33m\u001b[0m\u001b[0m\n\u001b[0;32m    498\u001b[0m                 raise ValueError(\"Complex data not supported\\n\"\n",
      "\u001b[1;32me:\\Programme\\Anaconda3\\lib\\site-packages\\numpy\\core\\numeric.py\u001b[0m in \u001b[0;36masarray\u001b[1;34m(a, dtype, order)\u001b[0m\n\u001b[0;32m    536\u001b[0m \u001b[1;33m\u001b[0m\u001b[0m\n\u001b[0;32m    537\u001b[0m     \"\"\"\n\u001b[1;32m--> 538\u001b[1;33m     \u001b[1;32mreturn\u001b[0m \u001b[0marray\u001b[0m\u001b[1;33m(\u001b[0m\u001b[0ma\u001b[0m\u001b[1;33m,\u001b[0m \u001b[0mdtype\u001b[0m\u001b[1;33m,\u001b[0m \u001b[0mcopy\u001b[0m\u001b[1;33m=\u001b[0m\u001b[1;32mFalse\u001b[0m\u001b[1;33m,\u001b[0m \u001b[0morder\u001b[0m\u001b[1;33m=\u001b[0m\u001b[0morder\u001b[0m\u001b[1;33m)\u001b[0m\u001b[1;33m\u001b[0m\u001b[1;33m\u001b[0m\u001b[0m\n\u001b[0m\u001b[0;32m    539\u001b[0m \u001b[1;33m\u001b[0m\u001b[0m\n\u001b[0;32m    540\u001b[0m \u001b[1;33m\u001b[0m\u001b[0m\n",
      "\u001b[1;31mValueError\u001b[0m: could not convert string to float: 'Zamdorf'"
     ]
    }
   ],
   "source": [
    "k = 4\n",
    "cluster = KMeans(n_clusters=k).fit(venue_freq)"
   ]
  },
  {
   "cell_type": "code",
   "execution_count": 393,
   "metadata": {},
   "outputs": [
    {
     "data": {
      "text/plain": [
       "array([ 0,  1, -1,  1,  1,  1, -1,  2,  2, -1, -1,  2,  0,  2,  1, -1, -1,\n",
       "        2,  1,  0,  1,  1,  1,  1,  1, -1,  1,  1, -1,  0,  1,  1, -1,  1,\n",
       "        1, -1, -1,  1,  1,  1, -1,  1, -1,  0,  1,  1,  1, -1],\n",
       "      dtype=int64)"
      ]
     },
     "execution_count": 393,
     "metadata": {},
     "output_type": "execute_result"
    }
   ],
   "source": [
    "density = DBSCAN(eps=0.18, min_samples=3).fit(venue_freq)\n",
    "\n",
    "density.labels_"
   ]
  },
  {
   "cell_type": "code",
   "execution_count": 394,
   "metadata": {},
   "outputs": [],
   "source": [
    "venue_freq['Cluster Label'] = density.labels_+1\n",
    "venue_freq.reset_index(inplace=True)"
   ]
  },
  {
   "cell_type": "code",
   "execution_count": 395,
   "metadata": {},
   "outputs": [
    {
     "name": "stderr",
     "output_type": "stream",
     "text": [
      "e:\\Programme\\Anaconda3\\lib\\site-packages\\ipykernel_launcher.py:1: UserWarning: Boolean Series key will be reindexed to match DataFrame index.\n",
      "  \"\"\"Entry point for launching an IPython kernel.\n"
     ]
    }
   ],
   "source": [
    "stadtteile_used = stadtteile_used[stadtteile['Stadtteil'].isin(venue_freq['Neighborhood'].unique())]"
   ]
  },
  {
   "cell_type": "code",
   "execution_count": 396,
   "metadata": {},
   "outputs": [
    {
     "data": {
      "text/html": [
       "<div>\n",
       "<style scoped>\n",
       "    .dataframe tbody tr th:only-of-type {\n",
       "        vertical-align: middle;\n",
       "    }\n",
       "\n",
       "    .dataframe tbody tr th {\n",
       "        vertical-align: top;\n",
       "    }\n",
       "\n",
       "    .dataframe thead th {\n",
       "        text-align: right;\n",
       "    }\n",
       "</style>\n",
       "<table border=\"1\" class=\"dataframe\">\n",
       "  <thead>\n",
       "    <tr style=\"text-align: right;\">\n",
       "      <th></th>\n",
       "      <th>Neighborhood</th>\n",
       "      <th>Bakery</th>\n",
       "      <th>Bus Stop</th>\n",
       "      <th>Café</th>\n",
       "      <th>Drugstore</th>\n",
       "      <th>German Restaurant</th>\n",
       "      <th>Hotel</th>\n",
       "      <th>Ice Cream Shop</th>\n",
       "      <th>Italian Restaurant</th>\n",
       "      <th>Plaza</th>\n",
       "      <th>Restaurant</th>\n",
       "      <th>Supermarket</th>\n",
       "      <th>Cluster Label</th>\n",
       "    </tr>\n",
       "  </thead>\n",
       "  <tbody>\n",
       "    <tr>\n",
       "      <td>0</td>\n",
       "      <td>Allach</td>\n",
       "      <td>0.200000</td>\n",
       "      <td>0.100000</td>\n",
       "      <td>0.000000</td>\n",
       "      <td>0.200000</td>\n",
       "      <td>0.100000</td>\n",
       "      <td>0.100000</td>\n",
       "      <td>0.000000</td>\n",
       "      <td>0.100000</td>\n",
       "      <td>0.000000</td>\n",
       "      <td>0.000000</td>\n",
       "      <td>0.200000</td>\n",
       "      <td>1</td>\n",
       "    </tr>\n",
       "    <tr>\n",
       "      <td>1</td>\n",
       "      <td>Altschwabing</td>\n",
       "      <td>0.075000</td>\n",
       "      <td>0.000000</td>\n",
       "      <td>0.500000</td>\n",
       "      <td>0.000000</td>\n",
       "      <td>0.100000</td>\n",
       "      <td>0.000000</td>\n",
       "      <td>0.075000</td>\n",
       "      <td>0.150000</td>\n",
       "      <td>0.075000</td>\n",
       "      <td>0.025000</td>\n",
       "      <td>0.000000</td>\n",
       "      <td>2</td>\n",
       "    </tr>\n",
       "    <tr>\n",
       "      <td>2</td>\n",
       "      <td>Altstadt</td>\n",
       "      <td>0.000000</td>\n",
       "      <td>0.000000</td>\n",
       "      <td>0.258065</td>\n",
       "      <td>0.032258</td>\n",
       "      <td>0.096774</td>\n",
       "      <td>0.258065</td>\n",
       "      <td>0.032258</td>\n",
       "      <td>0.032258</td>\n",
       "      <td>0.161290</td>\n",
       "      <td>0.129032</td>\n",
       "      <td>0.000000</td>\n",
       "      <td>0</td>\n",
       "    </tr>\n",
       "    <tr>\n",
       "      <td>3</td>\n",
       "      <td>Am Hart</td>\n",
       "      <td>0.071429</td>\n",
       "      <td>0.214286</td>\n",
       "      <td>0.142857</td>\n",
       "      <td>0.071429</td>\n",
       "      <td>0.071429</td>\n",
       "      <td>0.142857</td>\n",
       "      <td>0.000000</td>\n",
       "      <td>0.071429</td>\n",
       "      <td>0.000000</td>\n",
       "      <td>0.071429</td>\n",
       "      <td>0.142857</td>\n",
       "      <td>2</td>\n",
       "    </tr>\n",
       "    <tr>\n",
       "      <td>4</td>\n",
       "      <td>Au</td>\n",
       "      <td>0.000000</td>\n",
       "      <td>0.000000</td>\n",
       "      <td>0.333333</td>\n",
       "      <td>0.000000</td>\n",
       "      <td>0.111111</td>\n",
       "      <td>0.074074</td>\n",
       "      <td>0.074074</td>\n",
       "      <td>0.185185</td>\n",
       "      <td>0.185185</td>\n",
       "      <td>0.037037</td>\n",
       "      <td>0.000000</td>\n",
       "      <td>2</td>\n",
       "    </tr>\n",
       "  </tbody>\n",
       "</table>\n",
       "</div>"
      ],
      "text/plain": [
       "   Neighborhood    Bakery  Bus Stop      Café  Drugstore  German Restaurant  \\\n",
       "0        Allach  0.200000  0.100000  0.000000   0.200000           0.100000   \n",
       "1  Altschwabing  0.075000  0.000000  0.500000   0.000000           0.100000   \n",
       "2      Altstadt  0.000000  0.000000  0.258065   0.032258           0.096774   \n",
       "3       Am Hart  0.071429  0.214286  0.142857   0.071429           0.071429   \n",
       "4            Au  0.000000  0.000000  0.333333   0.000000           0.111111   \n",
       "\n",
       "      Hotel  Ice Cream Shop  Italian Restaurant     Plaza  Restaurant  \\\n",
       "0  0.100000        0.000000            0.100000  0.000000    0.000000   \n",
       "1  0.000000        0.075000            0.150000  0.075000    0.025000   \n",
       "2  0.258065        0.032258            0.032258  0.161290    0.129032   \n",
       "3  0.142857        0.000000            0.071429  0.000000    0.071429   \n",
       "4  0.074074        0.074074            0.185185  0.185185    0.037037   \n",
       "\n",
       "   Supermarket  Cluster Label  \n",
       "0     0.200000              1  \n",
       "1     0.000000              2  \n",
       "2     0.000000              0  \n",
       "3     0.142857              2  \n",
       "4     0.000000              2  "
      ]
     },
     "execution_count": 396,
     "metadata": {},
     "output_type": "execute_result"
    }
   ],
   "source": [
    "venue_freq.head()"
   ]
  },
  {
   "cell_type": "code",
   "execution_count": 397,
   "metadata": {},
   "outputs": [
    {
     "name": "stdout",
     "output_type": "stream",
     "text": [
      "3\n"
     ]
    },
    {
     "data": {
      "text/html": [
       "<div style=\"width:100%;\"><div style=\"position:relative;width:100%;height:0;padding-bottom:60%;\"><span style=\"color:#565656\">Make this Notebook Trusted to load map: File -> Trust Notebook</span><iframe src=\"about:blank\" style=\"position:absolute;width:100%;height:100%;left:0;top:0;border:none !important;\" data-html=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 onload=\"this.contentDocument.open();this.contentDocument.write(atob(this.getAttribute('data-html')));this.contentDocument.close();\" allowfullscreen webkitallowfullscreen mozallowfullscreen></iframe></div></div>"
      ],
      "text/plain": [
       "<folium.folium.Map at 0x1f9552ad608>"
      ]
     },
     "execution_count": 397,
     "metadata": {},
     "output_type": "execute_result"
    }
   ],
   "source": [
    "k = venue_freq['Cluster Label'].max()\n",
    "print(k)\n",
    "# create map\n",
    "map_clusters = folium.Map(location=[latitude, longitude], zoom_start=11)\n",
    "\n",
    "# set color scheme for the clusters\n",
    "x = np.arange(k)\n",
    "ys = [i + x + (i*x)**2 for i in range(k)]\n",
    "colors_array = cm.jet(np.linspace(0, 1, k+1))\n",
    "rainbow = [colors.rgb2hex(i) for i in colors_array]\n",
    "\n",
    "# add markers to the map\n",
    "markers_colors = []\n",
    "for lat, lon, poi, cluster in zip(stadtteile_used['Latitude'], stadtteile_used['Longitude'], venue_freq['Neighborhood'], venue_freq['Cluster Label']):\n",
    "    label = folium.Popup(str(poi) + ' Cluster ' + str(cluster), parse_html=True)\n",
    "    folium.CircleMarker(\n",
    "        [lat, lon],\n",
    "        radius=5,\n",
    "        popup=label,\n",
    "        color=rainbow[cluster-1],\n",
    "        fill=True,\n",
    "        fill_color=rainbow[cluster-1],\n",
    "        fill_opacity=0.7).add_to(map_clusters)\n",
    "       \n",
    "map_clusters"
   ]
  },
  {
   "cell_type": "code",
   "execution_count": null,
   "metadata": {},
   "outputs": [],
   "source": []
  },
  {
   "cell_type": "code",
   "execution_count": null,
   "metadata": {},
   "outputs": [],
   "source": []
  }
 ],
 "metadata": {
  "kernelspec": {
   "display_name": "Python 3",
   "language": "python",
   "name": "python3"
  },
  "language_info": {
   "codemirror_mode": {
    "name": "ipython",
    "version": 3
   },
   "file_extension": ".py",
   "mimetype": "text/x-python",
   "name": "python",
   "nbconvert_exporter": "python",
   "pygments_lexer": "ipython3",
   "version": "3.7.4"
  }
 },
 "nbformat": 4,
 "nbformat_minor": 4
}
